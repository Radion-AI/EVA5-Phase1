{
  "nbformat": 4,
  "nbformat_minor": 0,
  "metadata": {
    "colab": {
      "name": "session12",
      "provenance": [],
      "collapsed_sections": []
    },
    "kernelspec": {
      "name": "python3",
      "display_name": "Python 3"
    },
    "accelerator": "GPU",
    "widgets": {
      "application/vnd.jupyter.widget-state+json": {
        "e1e2a705e1b94561b98089c2ef8c4fb4": {
          "model_module": "@jupyter-widgets/controls",
          "model_name": "HBoxModel",
          "state": {
            "_view_name": "HBoxView",
            "_dom_classes": [],
            "_model_name": "HBoxModel",
            "_view_module": "@jupyter-widgets/controls",
            "_model_module_version": "1.5.0",
            "_view_count": null,
            "_view_module_version": "1.5.0",
            "box_style": "",
            "layout": "IPY_MODEL_7dde52e0ad5c45a68d9acce84fcab487",
            "_model_module": "@jupyter-widgets/controls",
            "children": [
              "IPY_MODEL_90c3fb619b6f4a5d8eede48b1edc0246",
              "IPY_MODEL_5d569b62ecc94adc988f57898e646063"
            ]
          }
        },
        "7dde52e0ad5c45a68d9acce84fcab487": {
          "model_module": "@jupyter-widgets/base",
          "model_name": "LayoutModel",
          "state": {
            "_view_name": "LayoutView",
            "grid_template_rows": null,
            "right": null,
            "justify_content": null,
            "_view_module": "@jupyter-widgets/base",
            "overflow": null,
            "_model_module_version": "1.2.0",
            "_view_count": null,
            "flex_flow": null,
            "width": null,
            "min_width": null,
            "border": null,
            "align_items": null,
            "bottom": null,
            "_model_module": "@jupyter-widgets/base",
            "top": null,
            "grid_column": null,
            "overflow_y": null,
            "overflow_x": null,
            "grid_auto_flow": null,
            "grid_area": null,
            "grid_template_columns": null,
            "flex": null,
            "_model_name": "LayoutModel",
            "justify_items": null,
            "grid_row": null,
            "max_height": null,
            "align_content": null,
            "visibility": null,
            "align_self": null,
            "height": null,
            "min_height": null,
            "padding": null,
            "grid_auto_rows": null,
            "grid_gap": null,
            "max_width": null,
            "order": null,
            "_view_module_version": "1.2.0",
            "grid_template_areas": null,
            "object_position": null,
            "object_fit": null,
            "grid_auto_columns": null,
            "margin": null,
            "display": null,
            "left": null
          }
        },
        "90c3fb619b6f4a5d8eede48b1edc0246": {
          "model_module": "@jupyter-widgets/controls",
          "model_name": "FloatProgressModel",
          "state": {
            "_view_name": "ProgressView",
            "style": "IPY_MODEL_3641292a9ea0434f931f8300497ba4d5",
            "_dom_classes": [],
            "description": "100%",
            "_model_name": "FloatProgressModel",
            "bar_style": "success",
            "max": 400,
            "_view_module": "@jupyter-widgets/controls",
            "_model_module_version": "1.5.0",
            "value": 400,
            "_view_count": null,
            "_view_module_version": "1.5.0",
            "orientation": "horizontal",
            "min": 0,
            "description_tooltip": null,
            "_model_module": "@jupyter-widgets/controls",
            "layout": "IPY_MODEL_5b7e700174724073801b738b9957a6cb"
          }
        },
        "5d569b62ecc94adc988f57898e646063": {
          "model_module": "@jupyter-widgets/controls",
          "model_name": "HTMLModel",
          "state": {
            "_view_name": "HTMLView",
            "style": "IPY_MODEL_a545860fa81b4caf9a4ba739c0856ffc",
            "_dom_classes": [],
            "description": "",
            "_model_name": "HTMLModel",
            "placeholder": "​",
            "_view_module": "@jupyter-widgets/controls",
            "_model_module_version": "1.5.0",
            "value": " 400/400 [01:38&lt;00:00,  4.08it/s]",
            "_view_count": null,
            "_view_module_version": "1.5.0",
            "description_tooltip": null,
            "_model_module": "@jupyter-widgets/controls",
            "layout": "IPY_MODEL_2e7750e8d1f34a2594e6d1c0973ea436"
          }
        },
        "3641292a9ea0434f931f8300497ba4d5": {
          "model_module": "@jupyter-widgets/controls",
          "model_name": "ProgressStyleModel",
          "state": {
            "_view_name": "StyleView",
            "_model_name": "ProgressStyleModel",
            "description_width": "initial",
            "_view_module": "@jupyter-widgets/base",
            "_model_module_version": "1.5.0",
            "_view_count": null,
            "_view_module_version": "1.2.0",
            "bar_color": null,
            "_model_module": "@jupyter-widgets/controls"
          }
        },
        "5b7e700174724073801b738b9957a6cb": {
          "model_module": "@jupyter-widgets/base",
          "model_name": "LayoutModel",
          "state": {
            "_view_name": "LayoutView",
            "grid_template_rows": null,
            "right": null,
            "justify_content": null,
            "_view_module": "@jupyter-widgets/base",
            "overflow": null,
            "_model_module_version": "1.2.0",
            "_view_count": null,
            "flex_flow": null,
            "width": null,
            "min_width": null,
            "border": null,
            "align_items": null,
            "bottom": null,
            "_model_module": "@jupyter-widgets/base",
            "top": null,
            "grid_column": null,
            "overflow_y": null,
            "overflow_x": null,
            "grid_auto_flow": null,
            "grid_area": null,
            "grid_template_columns": null,
            "flex": null,
            "_model_name": "LayoutModel",
            "justify_items": null,
            "grid_row": null,
            "max_height": null,
            "align_content": null,
            "visibility": null,
            "align_self": null,
            "height": null,
            "min_height": null,
            "padding": null,
            "grid_auto_rows": null,
            "grid_gap": null,
            "max_width": null,
            "order": null,
            "_view_module_version": "1.2.0",
            "grid_template_areas": null,
            "object_position": null,
            "object_fit": null,
            "grid_auto_columns": null,
            "margin": null,
            "display": null,
            "left": null
          }
        },
        "a545860fa81b4caf9a4ba739c0856ffc": {
          "model_module": "@jupyter-widgets/controls",
          "model_name": "DescriptionStyleModel",
          "state": {
            "_view_name": "StyleView",
            "_model_name": "DescriptionStyleModel",
            "description_width": "",
            "_view_module": "@jupyter-widgets/base",
            "_model_module_version": "1.5.0",
            "_view_count": null,
            "_view_module_version": "1.2.0",
            "_model_module": "@jupyter-widgets/controls"
          }
        },
        "2e7750e8d1f34a2594e6d1c0973ea436": {
          "model_module": "@jupyter-widgets/base",
          "model_name": "LayoutModel",
          "state": {
            "_view_name": "LayoutView",
            "grid_template_rows": null,
            "right": null,
            "justify_content": null,
            "_view_module": "@jupyter-widgets/base",
            "overflow": null,
            "_model_module_version": "1.2.0",
            "_view_count": null,
            "flex_flow": null,
            "width": null,
            "min_width": null,
            "border": null,
            "align_items": null,
            "bottom": null,
            "_model_module": "@jupyter-widgets/base",
            "top": null,
            "grid_column": null,
            "overflow_y": null,
            "overflow_x": null,
            "grid_auto_flow": null,
            "grid_area": null,
            "grid_template_columns": null,
            "flex": null,
            "_model_name": "LayoutModel",
            "justify_items": null,
            "grid_row": null,
            "max_height": null,
            "align_content": null,
            "visibility": null,
            "align_self": null,
            "height": null,
            "min_height": null,
            "padding": null,
            "grid_auto_rows": null,
            "grid_gap": null,
            "max_width": null,
            "order": null,
            "_view_module_version": "1.2.0",
            "grid_template_areas": null,
            "object_position": null,
            "object_fit": null,
            "grid_auto_columns": null,
            "margin": null,
            "display": null,
            "left": null
          }
        }
      }
    }
  },
  "cells": [
    {
      "cell_type": "code",
      "metadata": {
        "id": "fSQBFB7Pel2s"
      },
      "source": [
        "# ! pip install albumentations==0.4.5"
      ],
      "execution_count": 1,
      "outputs": []
    },
    {
      "cell_type": "code",
      "metadata": {
        "id": "rmPFFNEaax1c"
      },
      "source": [
        "# ! rm -rf ./radlib\n",
        "# ! git clone https://github.com/vpsingh22/radlib.git\n"
      ],
      "execution_count": 2,
      "outputs": []
    },
    {
      "cell_type": "code",
      "metadata": {
        "id": "qG90BCq_adYO"
      },
      "source": [
        "%matplotlib inline\n",
        "from radlib.model.regularizer import l1_regularization\n",
        "from radlib.model.train import train \n",
        "from radlib.model.test import val\n",
        "from radlib.model.network import BasicBlock, ResNet, ResNet18\n",
        "from radlib.data.datasets import TinyImageNet\n",
        "from radlib.plotter import plot_metric\n",
        "from radlib.lr_finder import LRFinder\n",
        "\n",
        "import torch\n",
        "import torch.nn as nn\n",
        "import torch.optim as optim\n",
        "from torch.optim.lr_scheduler import ReduceLROnPlateau\n",
        "\n",
        "import random\n",
        "import matplotlib.pyplot as plt"
      ],
      "execution_count": 3,
      "outputs": []
    },
    {
      "cell_type": "code",
      "metadata": {
        "id": "XL-dNlJEtmiI",
        "outputId": "14fac9dc-bf16-4797-fc8f-9b9bbb066d4c",
        "colab": {
          "base_uri": "https://localhost:8080/",
          "height": 34
        }
      },
      "source": [
        "cuda = torch.cuda.is_available()\n",
        "print('GPU Available?', cuda)\n",
        "device = torch.device(\"cuda\" if cuda else \"cpu\")\n",
        "torch.manual_seed(1)\n",
        "if cuda:\n",
        "    torch.cuda.manual_seed(1)"
      ],
      "execution_count": 4,
      "outputs": [
        {
          "output_type": "stream",
          "text": [
            "GPU Available? True\n"
          ],
          "name": "stdout"
        }
      ]
    },
    {
      "cell_type": "code",
      "metadata": {
        "id": "1zaRNX6YteV7",
        "outputId": "f51157db-851c-47db-861d-c086683f57e6",
        "colab": {
          "base_uri": "https://localhost:8080/",
          "height": 52
        }
      },
      "source": [
        "dataset = TinyImageNet(train_batch_size=128, val_batch_size=128, cuda=cuda, num_workers=16, horizontal_flip_prob=0.3,\n",
        "                       vertical_flip_prob=0.1, rotate_degree=10, cutout_prob=0.3, cutout_dim=(16, 16),)"
      ],
      "execution_count": 5,
      "outputs": [
        {
          "output_type": "stream",
          "text": [
            "Files already downloaded.\n",
            "Files already downloaded.\n"
          ],
          "name": "stdout"
        }
      ]
    },
    {
      "cell_type": "code",
      "metadata": {
        "id": "CMbEeBxaxI5o"
      },
      "source": [
        "train_loader = dataset.loader(train=True)\n",
        "val_loader = dataset.loader(train=False)"
      ],
      "execution_count": 6,
      "outputs": []
    },
    {
      "cell_type": "code",
      "metadata": {
        "id": "g65gdXQR2YFW",
        "outputId": "6df119f3-ea3c-4879-debd-7b6aac150042",
        "colab": {
          "base_uri": "https://localhost:8080/",
          "height": 216
        }
      },
      "source": [
        "classes = dataset.classes\n",
        "print(len(classes))\n",
        "# Set number of images to display\n",
        "num_images = 4\n",
        "\n",
        "# Display images with labels\n",
        "fig, axs = plt.subplots(1, 4, figsize=(8, 8))\n",
        "fig.tight_layout()\n",
        "sample = None\n",
        "for i in range(num_images):\n",
        "    if i == 0:\n",
        "        sample = dataset.unnormalize(dataset.val_data[i][0], transpose=True)\n",
        "    idx = random.randint(0, len(dataset.val_data))\n",
        "    axs[i].axis('off')\n",
        "    axs[i].set_title(f'Label: {classes[dataset.val_data[idx][1]].split(\",\")[0]}')\n",
        "    axs[i].imshow(dataset.unnormalize(dataset.val_data[idx][0], transpose=True))"
      ],
      "execution_count": 7,
      "outputs": [
        {
          "output_type": "stream",
          "text": [
            "Clipping input data to the valid range for imshow with RGB data ([0..1] for floats or [0..255] for integers).\n",
            "Clipping input data to the valid range for imshow with RGB data ([0..1] for floats or [0..255] for integers).\n",
            "Clipping input data to the valid range for imshow with RGB data ([0..1] for floats or [0..255] for integers).\n"
          ],
          "name": "stderr"
        },
        {
          "output_type": "stream",
          "text": [
            "200\n"
          ],
          "name": "stdout"
        },
        {
          "output_type": "display_data",
          "data": {
            "image/png": "[encoded data removed]",
            "text/plain": [
              "<Figure size 576x576 with 4 Axes>"
            ]
          },
          "metadata": {
            "tags": [],
            "needs_background": "light"
          }
        }
      ]
    },
    {
      "cell_type": "code",
      "metadata": {
        "id": "PDuuQwghle3X",
        "outputId": "e950a6a8-06aa-41e6-b477-91a80a62f951",
        "colab": {
          "base_uri": "https://localhost:8080/",
          "height": 1000
        }
      },
      "source": [
        "from torchsummary import summary\n",
        "model = ResNet18(num_classes=len(classes)).to(device)  # Create model\n",
        "# size = image_size(sample)\n",
        "print(sample.shape)\n",
        "print(summary(model, input_size=(3, 64, 64)))"
      ],
      "execution_count": 8,
      "outputs": [
        {
          "output_type": "stream",
          "text": [
            "torch.Size([64, 64, 3])\n",
            "----------------------------------------------------------------\n",
            "        Layer (type)               Output Shape         Param #\n",
            "================================================================\n",
            "            Conv2d-1           [-1, 64, 64, 64]           1,728\n",
            "       BatchNorm2d-2           [-1, 64, 64, 64]             128\n",
            "            Conv2d-3           [-1, 64, 64, 64]          36,864\n",
            "       BatchNorm2d-4           [-1, 64, 64, 64]             128\n",
            "            Conv2d-5           [-1, 64, 64, 64]          36,864\n",
            "       BatchNorm2d-6           [-1, 64, 64, 64]             128\n",
            "        BasicBlock-7           [-1, 64, 64, 64]               0\n",
            "            Conv2d-8           [-1, 64, 64, 64]          36,864\n",
            "       BatchNorm2d-9           [-1, 64, 64, 64]             128\n",
            "           Conv2d-10           [-1, 64, 64, 64]          36,864\n",
            "      BatchNorm2d-11           [-1, 64, 64, 64]             128\n",
            "       BasicBlock-12           [-1, 64, 64, 64]               0\n",
            "           Conv2d-13          [-1, 128, 32, 32]          73,728\n",
            "      BatchNorm2d-14          [-1, 128, 32, 32]             256\n",
            "           Conv2d-15          [-1, 128, 32, 32]         147,456\n",
            "      BatchNorm2d-16          [-1, 128, 32, 32]             256\n",
            "           Conv2d-17          [-1, 128, 32, 32]           8,192\n",
            "      BatchNorm2d-18          [-1, 128, 32, 32]             256\n",
            "       BasicBlock-19          [-1, 128, 32, 32]               0\n",
            "           Conv2d-20          [-1, 128, 32, 32]         147,456\n",
            "      BatchNorm2d-21          [-1, 128, 32, 32]             256\n",
            "           Conv2d-22          [-1, 128, 32, 32]         147,456\n",
            "      BatchNorm2d-23          [-1, 128, 32, 32]             256\n",
            "       BasicBlock-24          [-1, 128, 32, 32]               0\n",
            "           Conv2d-25          [-1, 256, 16, 16]         294,912\n",
            "      BatchNorm2d-26          [-1, 256, 16, 16]             512\n",
            "           Conv2d-27          [-1, 256, 16, 16]         589,824\n",
            "      BatchNorm2d-28          [-1, 256, 16, 16]             512\n",
            "           Conv2d-29          [-1, 256, 16, 16]          32,768\n",
            "      BatchNorm2d-30          [-1, 256, 16, 16]             512\n",
            "       BasicBlock-31          [-1, 256, 16, 16]               0\n",
            "           Conv2d-32          [-1, 256, 16, 16]         589,824\n",
            "      BatchNorm2d-33          [-1, 256, 16, 16]             512\n",
            "           Conv2d-34          [-1, 256, 16, 16]         589,824\n",
            "      BatchNorm2d-35          [-1, 256, 16, 16]             512\n",
            "       BasicBlock-36          [-1, 256, 16, 16]               0\n",
            "           Conv2d-37            [-1, 512, 8, 8]       1,179,648\n",
            "      BatchNorm2d-38            [-1, 512, 8, 8]           1,024\n",
            "           Conv2d-39            [-1, 512, 8, 8]       2,359,296\n",
            "      BatchNorm2d-40            [-1, 512, 8, 8]           1,024\n",
            "           Conv2d-41            [-1, 512, 8, 8]         131,072\n",
            "      BatchNorm2d-42            [-1, 512, 8, 8]           1,024\n",
            "       BasicBlock-43            [-1, 512, 8, 8]               0\n",
            "           Conv2d-44            [-1, 512, 8, 8]       2,359,296\n",
            "      BatchNorm2d-45            [-1, 512, 8, 8]           1,024\n",
            "           Conv2d-46            [-1, 512, 8, 8]       2,359,296\n",
            "      BatchNorm2d-47            [-1, 512, 8, 8]           1,024\n",
            "       BasicBlock-48            [-1, 512, 8, 8]               0\n",
            "AdaptiveAvgPool2d-49            [-1, 512, 1, 1]               0\n",
            "           Linear-50                  [-1, 200]         102,600\n",
            "================================================================\n",
            "Total params: 11,271,432\n",
            "Trainable params: 11,271,432\n",
            "Non-trainable params: 0\n",
            "----------------------------------------------------------------\n",
            "Input size (MB): 0.05\n",
            "Forward/backward pass size (MB): 45.01\n",
            "Params size (MB): 43.00\n",
            "Estimated Total Size (MB): 88.05\n",
            "----------------------------------------------------------------\n",
            "None\n"
          ],
          "name": "stdout"
        }
      ]
    },
    {
      "cell_type": "code",
      "metadata": {
        "id": "2QkRyfWfl0OT"
      },
      "source": [
        "min_lr = 1e-6\n",
        "end_lr = 0.1\n",
        "num_iter = 400\n",
        "momentum = 0.9\n",
        "criterion = nn.CrossEntropyLoss()\n",
        "optimizer = optim.SGD(model.parameters(), lr=min_lr, momentum=momentum)"
      ],
      "execution_count": 9,
      "outputs": []
    },
    {
      "cell_type": "code",
      "metadata": {
        "id": "N3a1Hh4dqIOk",
        "outputId": "1c51fe64-bfce-4a1b-b501-9cfd32375cd3",
        "colab": {
          "base_uri": "https://localhost:8080/",
          "height": 84,
          "referenced_widgets": [
            "e1e2a705e1b94561b98089c2ef8c4fb4",
            "7dde52e0ad5c45a68d9acce84fcab487",
            "90c3fb619b6f4a5d8eede48b1edc0246",
            "5d569b62ecc94adc988f57898e646063",
            "3641292a9ea0434f931f8300497ba4d5",
            "5b7e700174724073801b738b9957a6cb",
            "a545860fa81b4caf9a4ba739c0856ffc",
            "2e7750e8d1f34a2594e6d1c0973ea436"
          ]
        }
      },
      "source": [
        "lr_finder = LRFinder(model, optimizer, criterion, device=device)\n",
        "lr_finder.range_test(train_loader, end_lr=end_lr, num_iter=400, step_mode='exp')"
      ],
      "execution_count": 10,
      "outputs": [
        {
          "output_type": "display_data",
          "data": {
            "application/vnd.jupyter.widget-view+json": {
              "model_id": "e1e2a705e1b94561b98089c2ef8c4fb4",
              "version_minor": 0,
              "version_major": 2
            },
            "text/plain": [
              "HBox(children=(FloatProgress(value=0.0, max=400.0), HTML(value='')))"
            ]
          },
          "metadata": {
            "tags": []
          }
        },
        {
          "output_type": "stream",
          "text": [
            "\n",
            "Learning rate search finished. See the graph with {finder_name}.plot()\n"
          ],
          "name": "stdout"
        }
      ]
    },
    {
      "cell_type": "code",
      "metadata": {
        "id": "qN58gtmCqNIA",
        "outputId": "b2e0fa36-f268-4f37-a588-cfe63e8216c5",
        "colab": {
          "base_uri": "https://localhost:8080/",
          "height": 337
        }
      },
      "source": [
        "\n",
        "# Print loss\n",
        "print('Loss:', lr_finder.best_loss)\n",
        "\n",
        "# return best initial lr\n",
        "# Plot learning rate vs loss\n",
        "_, best_initial_lr = lr_finder.plot()\n",
        "# print(best_initial_lr)\n",
        "# Reset graph\n",
        "lr_finder.reset()"
      ],
      "execution_count": 11,
      "outputs": [
        {
          "output_type": "stream",
          "text": [
            "Loss: 5.031965861124012\n",
            "Initial LR suggestion: Minimum Loss\n",
            "Best Initial LR: 1.45E-02\n"
          ],
          "name": "stdout"
        },
        {
          "output_type": "display_data",
          "data": {
            "image/png": "[encoded data removed]",
            "text/plain": [
              "<Figure size 432x288 with 1 Axes>"
            ]
          },
          "metadata": {
            "tags": [],
            "needs_background": "light"
          }
        }
      ]
    },
    {
      "cell_type": "code",
      "metadata": {
        "id": "2OHQZejbvHoe"
      },
      "source": [
        "momentum = 0.9\n",
        "total_epochs = 50\n",
        "patience = 2"
      ],
      "execution_count": 12,
      "outputs": []
    },
    {
      "cell_type": "code",
      "metadata": {
        "id": "A5oeVXvgk5e3"
      },
      "source": [
        "criterion = nn.CrossEntropyLoss()\n",
        "optimizer = optim.SGD(model.parameters(), lr=best_initial_lr, momentum=momentum)\n",
        "scheduler = ReduceLROnPlateau(optimizer, patience = 2)"
      ],
      "execution_count": 13,
      "outputs": []
    },
    {
      "cell_type": "code",
      "metadata": {
        "id": "qdEZv-NZn2p6",
        "outputId": "352a5b31-8ae9-443a-edcb-d04f30736b11",
        "colab": {
          "base_uri": "https://localhost:8080/",
          "height": 1000
        }
      },
      "source": [
        "\n",
        "train_losses, train_accuracies, val_losses, val_accuracies = [], [], [], []\n",
        "for epoch in range(1, total_epochs + 1):\n",
        "    print(f'Epoch {epoch}:')\n",
        "    train_loss, train_accuracy = train(model, train_loader, device, optimizer, criterion)\n",
        "    val_loss, val_accuracy = val(model, val_loader, device, criterion)\n",
        "    train_losses.append(train_loss), train_accuracies.append(train_accuracy)\n",
        "    val_losses.append(val_loss), val_accuracies.append(val_accuracy)"
      ],
      "execution_count": 14,
      "outputs": [
        {
          "output_type": "stream",
          "text": [
            "\r  0%|          | 0/602 [00:00<?, ?it/s]"
          ],
          "name": "stderr"
        },
        {
          "output_type": "stream",
          "text": [
            "Epoch 1:\n"
          ],
          "name": "stdout"
        },
        {
          "output_type": "stream",
          "text": [
            "Loss=4.21 Batch_ID=601 Accuracy=7.80: 100%|██████████| 602/602 [02:27<00:00,  4.09it/s]\n",
            "  0%|          | 0/602 [00:00<?, ?it/s]"
          ],
          "name": "stderr"
        },
        {
          "output_type": "stream",
          "text": [
            "\n",
            "Validation set: Average loss: 0.0336, Accuracy: 3574/33000 (10.83%)\n",
            "\n",
            "Epoch 2:\n"
          ],
          "name": "stdout"
        },
        {
          "output_type": "stream",
          "text": [
            "Loss=3.61 Batch_ID=601 Accuracy=17.80: 100%|██████████| 602/602 [02:26<00:00,  4.10it/s]\n",
            "  0%|          | 0/602 [00:00<?, ?it/s]"
          ],
          "name": "stderr"
        },
        {
          "output_type": "stream",
          "text": [
            "\n",
            "Validation set: Average loss: 0.0271, Accuracy: 6874/33000 (20.83%)\n",
            "\n",
            "Epoch 3:\n"
          ],
          "name": "stdout"
        },
        {
          "output_type": "stream",
          "text": [
            "Loss=3.37 Batch_ID=601 Accuracy=24.61: 100%|██████████| 602/602 [02:26<00:00,  4.10it/s]\n",
            "  0%|          | 0/602 [00:00<?, ?it/s]"
          ],
          "name": "stderr"
        },
        {
          "output_type": "stream",
          "text": [
            "\n",
            "Validation set: Average loss: 0.0256, Accuracy: 8169/33000 (24.75%)\n",
            "\n",
            "Epoch 4:\n"
          ],
          "name": "stdout"
        },
        {
          "output_type": "stream",
          "text": [
            "Loss=2.66 Batch_ID=601 Accuracy=29.84: 100%|██████████| 602/602 [02:26<00:00,  4.10it/s]\n",
            "  0%|          | 0/602 [00:00<?, ?it/s]"
          ],
          "name": "stderr"
        },
        {
          "output_type": "stream",
          "text": [
            "\n",
            "Validation set: Average loss: 0.0254, Accuracy: 8807/33000 (26.69%)\n",
            "\n",
            "Epoch 5:\n"
          ],
          "name": "stdout"
        },
        {
          "output_type": "stream",
          "text": [
            "Loss=2.99 Batch_ID=601 Accuracy=34.12: 100%|██████████| 602/602 [02:26<00:00,  4.10it/s]\n",
            "  0%|          | 0/602 [00:00<?, ?it/s]"
          ],
          "name": "stderr"
        },
        {
          "output_type": "stream",
          "text": [
            "\n",
            "Validation set: Average loss: 0.0221, Accuracy: 10880/33000 (32.97%)\n",
            "\n",
            "Epoch 6:\n"
          ],
          "name": "stdout"
        },
        {
          "output_type": "stream",
          "text": [
            "Loss=2.33 Batch_ID=601 Accuracy=37.76: 100%|██████████| 602/602 [02:27<00:00,  4.09it/s]\n",
            "  0%|          | 0/602 [00:00<?, ?it/s]"
          ],
          "name": "stderr"
        },
        {
          "output_type": "stream",
          "text": [
            "\n",
            "Validation set: Average loss: 0.0212, Accuracy: 11869/33000 (35.97%)\n",
            "\n",
            "Epoch 7:\n"
          ],
          "name": "stdout"
        },
        {
          "output_type": "stream",
          "text": [
            "Loss=2.69 Batch_ID=601 Accuracy=40.98: 100%|██████████| 602/602 [02:27<00:00,  4.08it/s]\n",
            "  0%|          | 0/602 [00:00<?, ?it/s]"
          ],
          "name": "stderr"
        },
        {
          "output_type": "stream",
          "text": [
            "\n",
            "Validation set: Average loss: 0.0211, Accuracy: 12171/33000 (36.88%)\n",
            "\n",
            "Epoch 8:\n"
          ],
          "name": "stdout"
        },
        {
          "output_type": "stream",
          "text": [
            "Loss=1.92 Batch_ID=601 Accuracy=43.94: 100%|██████████| 602/602 [02:27<00:00,  4.09it/s]\n",
            "  0%|          | 0/602 [00:00<?, ?it/s]"
          ],
          "name": "stderr"
        },
        {
          "output_type": "stream",
          "text": [
            "\n",
            "Validation set: Average loss: 0.0209, Accuracy: 12370/33000 (37.48%)\n",
            "\n",
            "Epoch 9:\n"
          ],
          "name": "stdout"
        },
        {
          "output_type": "stream",
          "text": [
            "Loss=2.38 Batch_ID=601 Accuracy=46.64: 100%|██████████| 602/602 [02:27<00:00,  4.09it/s]\n",
            "  0%|          | 0/602 [00:00<?, ?it/s]"
          ],
          "name": "stderr"
        },
        {
          "output_type": "stream",
          "text": [
            "\n",
            "Validation set: Average loss: 0.0203, Accuracy: 12877/33000 (39.02%)\n",
            "\n",
            "Epoch 10:\n"
          ],
          "name": "stdout"
        },
        {
          "output_type": "stream",
          "text": [
            "Loss=1.99 Batch_ID=601 Accuracy=49.11: 100%|██████████| 602/602 [02:26<00:00,  4.10it/s]\n",
            "  0%|          | 0/602 [00:00<?, ?it/s]"
          ],
          "name": "stderr"
        },
        {
          "output_type": "stream",
          "text": [
            "\n",
            "Validation set: Average loss: 0.0190, Accuracy: 13966/33000 (42.32%)\n",
            "\n",
            "Epoch 11:\n"
          ],
          "name": "stdout"
        },
        {
          "output_type": "stream",
          "text": [
            "Loss=1.87 Batch_ID=601 Accuracy=51.14: 100%|██████████| 602/602 [02:27<00:00,  4.09it/s]\n",
            "  0%|          | 0/602 [00:00<?, ?it/s]"
          ],
          "name": "stderr"
        },
        {
          "output_type": "stream",
          "text": [
            "\n",
            "Validation set: Average loss: 0.0180, Accuracy: 14740/33000 (44.67%)\n",
            "\n",
            "Epoch 12:\n"
          ],
          "name": "stdout"
        },
        {
          "output_type": "stream",
          "text": [
            "Loss=1.49 Batch_ID=601 Accuracy=53.68: 100%|██████████| 602/602 [02:27<00:00,  4.09it/s]\n",
            "  0%|          | 0/602 [00:00<?, ?it/s]"
          ],
          "name": "stderr"
        },
        {
          "output_type": "stream",
          "text": [
            "\n",
            "Validation set: Average loss: 0.0182, Accuracy: 14688/33000 (44.51%)\n",
            "\n",
            "Epoch 13:\n"
          ],
          "name": "stdout"
        },
        {
          "output_type": "stream",
          "text": [
            "Loss=2.17 Batch_ID=601 Accuracy=55.36: 100%|██████████| 602/602 [02:26<00:00,  4.10it/s]\n",
            "  0%|          | 0/602 [00:00<?, ?it/s]"
          ],
          "name": "stderr"
        },
        {
          "output_type": "stream",
          "text": [
            "\n",
            "Validation set: Average loss: 0.0176, Accuracy: 15424/33000 (46.74%)\n",
            "\n",
            "Epoch 14:\n"
          ],
          "name": "stdout"
        },
        {
          "output_type": "stream",
          "text": [
            "Loss=1.88 Batch_ID=601 Accuracy=57.41: 100%|██████████| 602/602 [02:26<00:00,  4.10it/s]\n",
            "  0%|          | 0/602 [00:00<?, ?it/s]"
          ],
          "name": "stderr"
        },
        {
          "output_type": "stream",
          "text": [
            "\n",
            "Validation set: Average loss: 0.0186, Accuracy: 14859/33000 (45.03%)\n",
            "\n",
            "Epoch 15:\n"
          ],
          "name": "stdout"
        },
        {
          "output_type": "stream",
          "text": [
            "Loss=1.37 Batch_ID=601 Accuracy=59.45: 100%|██████████| 602/602 [02:27<00:00,  4.09it/s]\n",
            "  0%|          | 0/602 [00:00<?, ?it/s]"
          ],
          "name": "stderr"
        },
        {
          "output_type": "stream",
          "text": [
            "\n",
            "Validation set: Average loss: 0.0179, Accuracy: 15375/33000 (46.59%)\n",
            "\n",
            "Epoch 16:\n"
          ],
          "name": "stdout"
        },
        {
          "output_type": "stream",
          "text": [
            "Loss=1.65 Batch_ID=601 Accuracy=61.29: 100%|██████████| 602/602 [02:27<00:00,  4.09it/s]\n",
            "  0%|          | 0/602 [00:00<?, ?it/s]"
          ],
          "name": "stderr"
        },
        {
          "output_type": "stream",
          "text": [
            "\n",
            "Validation set: Average loss: 0.0175, Accuracy: 15901/33000 (48.18%)\n",
            "\n",
            "Epoch 17:\n"
          ],
          "name": "stdout"
        },
        {
          "output_type": "stream",
          "text": [
            "Loss=1.45 Batch_ID=601 Accuracy=63.34: 100%|██████████| 602/602 [02:27<00:00,  4.09it/s]\n",
            "  0%|          | 0/602 [00:00<?, ?it/s]"
          ],
          "name": "stderr"
        },
        {
          "output_type": "stream",
          "text": [
            "\n",
            "Validation set: Average loss: 0.0180, Accuracy: 15514/33000 (47.01%)\n",
            "\n",
            "Epoch 18:\n"
          ],
          "name": "stdout"
        },
        {
          "output_type": "stream",
          "text": [
            "Loss=1.08 Batch_ID=601 Accuracy=64.86: 100%|██████████| 602/602 [02:27<00:00,  4.09it/s]\n",
            "  0%|          | 0/602 [00:00<?, ?it/s]"
          ],
          "name": "stderr"
        },
        {
          "output_type": "stream",
          "text": [
            "\n",
            "Validation set: Average loss: 0.0170, Accuracy: 16129/33000 (48.88%)\n",
            "\n",
            "Epoch 19:\n"
          ],
          "name": "stdout"
        },
        {
          "output_type": "stream",
          "text": [
            "Loss=1.20 Batch_ID=601 Accuracy=67.05: 100%|██████████| 602/602 [02:27<00:00,  4.09it/s]\n",
            "  0%|          | 0/602 [00:00<?, ?it/s]"
          ],
          "name": "stderr"
        },
        {
          "output_type": "stream",
          "text": [
            "\n",
            "Validation set: Average loss: 0.0169, Accuracy: 16290/33000 (49.36%)\n",
            "\n",
            "Epoch 20:\n"
          ],
          "name": "stdout"
        },
        {
          "output_type": "stream",
          "text": [
            "Loss=1.31 Batch_ID=601 Accuracy=68.86: 100%|██████████| 602/602 [02:27<00:00,  4.09it/s]\n",
            "  0%|          | 0/602 [00:00<?, ?it/s]"
          ],
          "name": "stderr"
        },
        {
          "output_type": "stream",
          "text": [
            "\n",
            "Validation set: Average loss: 0.0165, Accuracy: 16752/33000 (50.76%)\n",
            "\n",
            "Epoch 21:\n"
          ],
          "name": "stdout"
        },
        {
          "output_type": "stream",
          "text": [
            "Loss=1.64 Batch_ID=601 Accuracy=70.63: 100%|██████████| 602/602 [02:26<00:00,  4.10it/s]\n",
            "  0%|          | 0/602 [00:00<?, ?it/s]"
          ],
          "name": "stderr"
        },
        {
          "output_type": "stream",
          "text": [
            "\n",
            "Validation set: Average loss: 0.0174, Accuracy: 16383/33000 (49.65%)\n",
            "\n",
            "Epoch 22:\n"
          ],
          "name": "stdout"
        },
        {
          "output_type": "stream",
          "text": [
            "Loss=1.40 Batch_ID=601 Accuracy=71.96: 100%|██████████| 602/602 [02:26<00:00,  4.10it/s]\n",
            "  0%|          | 0/602 [00:00<?, ?it/s]"
          ],
          "name": "stderr"
        },
        {
          "output_type": "stream",
          "text": [
            "\n",
            "Validation set: Average loss: 0.0190, Accuracy: 15585/33000 (47.23%)\n",
            "\n",
            "Epoch 23:\n"
          ],
          "name": "stdout"
        },
        {
          "output_type": "stream",
          "text": [
            "Loss=0.91 Batch_ID=601 Accuracy=73.99: 100%|██████████| 602/602 [02:26<00:00,  4.10it/s]\n",
            "  0%|          | 0/602 [00:00<?, ?it/s]"
          ],
          "name": "stderr"
        },
        {
          "output_type": "stream",
          "text": [
            "\n",
            "Validation set: Average loss: 0.0176, Accuracy: 16611/33000 (50.34%)\n",
            "\n",
            "Epoch 24:\n"
          ],
          "name": "stdout"
        },
        {
          "output_type": "stream",
          "text": [
            "Loss=0.91 Batch_ID=601 Accuracy=75.65: 100%|██████████| 602/602 [02:26<00:00,  4.10it/s]\n",
            "  0%|          | 0/602 [00:00<?, ?it/s]"
          ],
          "name": "stderr"
        },
        {
          "output_type": "stream",
          "text": [
            "\n",
            "Validation set: Average loss: 0.0186, Accuracy: 16186/33000 (49.05%)\n",
            "\n",
            "Epoch 25:\n"
          ],
          "name": "stdout"
        },
        {
          "output_type": "stream",
          "text": [
            "Loss=0.69 Batch_ID=601 Accuracy=76.71: 100%|██████████| 602/602 [02:26<00:00,  4.10it/s]\n",
            "  0%|          | 0/602 [00:00<?, ?it/s]"
          ],
          "name": "stderr"
        },
        {
          "output_type": "stream",
          "text": [
            "\n",
            "Validation set: Average loss: 0.0183, Accuracy: 16232/33000 (49.19%)\n",
            "\n",
            "Epoch 26:\n"
          ],
          "name": "stdout"
        },
        {
          "output_type": "stream",
          "text": [
            "Loss=0.95 Batch_ID=601 Accuracy=78.55: 100%|██████████| 602/602 [02:26<00:00,  4.10it/s]\n",
            "  0%|          | 0/602 [00:00<?, ?it/s]"
          ],
          "name": "stderr"
        },
        {
          "output_type": "stream",
          "text": [
            "\n",
            "Validation set: Average loss: 0.0183, Accuracy: 16511/33000 (50.03%)\n",
            "\n",
            "Epoch 27:\n"
          ],
          "name": "stdout"
        },
        {
          "output_type": "stream",
          "text": [
            "Loss=0.97 Batch_ID=601 Accuracy=79.74: 100%|██████████| 602/602 [02:27<00:00,  4.09it/s]\n",
            "  0%|          | 0/602 [00:00<?, ?it/s]"
          ],
          "name": "stderr"
        },
        {
          "output_type": "stream",
          "text": [
            "\n",
            "Validation set: Average loss: 0.0182, Accuracy: 16725/33000 (50.68%)\n",
            "\n",
            "Epoch 28:\n"
          ],
          "name": "stdout"
        },
        {
          "output_type": "stream",
          "text": [
            "Loss=0.82 Batch_ID=601 Accuracy=81.19: 100%|██████████| 602/602 [02:27<00:00,  4.09it/s]\n",
            "  0%|          | 0/602 [00:00<?, ?it/s]"
          ],
          "name": "stderr"
        },
        {
          "output_type": "stream",
          "text": [
            "\n",
            "Validation set: Average loss: 0.0183, Accuracy: 16734/33000 (50.71%)\n",
            "\n",
            "Epoch 29:\n"
          ],
          "name": "stdout"
        },
        {
          "output_type": "stream",
          "text": [
            "Loss=0.76 Batch_ID=601 Accuracy=82.29: 100%|██████████| 602/602 [02:27<00:00,  4.09it/s]\n",
            "  0%|          | 0/602 [00:00<?, ?it/s]"
          ],
          "name": "stderr"
        },
        {
          "output_type": "stream",
          "text": [
            "\n",
            "Validation set: Average loss: 0.0181, Accuracy: 16959/33000 (51.39%)\n",
            "\n",
            "Epoch 30:\n"
          ],
          "name": "stdout"
        },
        {
          "output_type": "stream",
          "text": [
            "Loss=0.64 Batch_ID=601 Accuracy=83.56: 100%|██████████| 602/602 [02:27<00:00,  4.08it/s]\n",
            "  0%|          | 0/602 [00:00<?, ?it/s]"
          ],
          "name": "stderr"
        },
        {
          "output_type": "stream",
          "text": [
            "\n",
            "Validation set: Average loss: 0.0177, Accuracy: 17324/33000 (52.50%)\n",
            "\n",
            "Epoch 31:\n"
          ],
          "name": "stdout"
        },
        {
          "output_type": "stream",
          "text": [
            "Loss=0.77 Batch_ID=601 Accuracy=84.65: 100%|██████████| 602/602 [02:27<00:00,  4.08it/s]\n",
            "  0%|          | 0/602 [00:00<?, ?it/s]"
          ],
          "name": "stderr"
        },
        {
          "output_type": "stream",
          "text": [
            "\n",
            "Validation set: Average loss: 0.0191, Accuracy: 16658/33000 (50.48%)\n",
            "\n",
            "Epoch 32:\n"
          ],
          "name": "stdout"
        },
        {
          "output_type": "stream",
          "text": [
            "Loss=0.49 Batch_ID=601 Accuracy=85.49: 100%|██████████| 602/602 [02:27<00:00,  4.09it/s]\n",
            "  0%|          | 0/602 [00:00<?, ?it/s]"
          ],
          "name": "stderr"
        },
        {
          "output_type": "stream",
          "text": [
            "\n",
            "Validation set: Average loss: 0.0184, Accuracy: 16833/33000 (51.01%)\n",
            "\n",
            "Epoch 33:\n"
          ],
          "name": "stdout"
        },
        {
          "output_type": "stream",
          "text": [
            "Loss=0.47 Batch_ID=601 Accuracy=86.32: 100%|██████████| 602/602 [02:26<00:00,  4.10it/s]\n",
            "  0%|          | 0/602 [00:00<?, ?it/s]"
          ],
          "name": "stderr"
        },
        {
          "output_type": "stream",
          "text": [
            "\n",
            "Validation set: Average loss: 0.0189, Accuracy: 16988/33000 (51.48%)\n",
            "\n",
            "Epoch 34:\n"
          ],
          "name": "stdout"
        },
        {
          "output_type": "stream",
          "text": [
            "Loss=0.64 Batch_ID=601 Accuracy=86.98: 100%|██████████| 602/602 [02:27<00:00,  4.09it/s]\n",
            "  0%|          | 0/602 [00:00<?, ?it/s]"
          ],
          "name": "stderr"
        },
        {
          "output_type": "stream",
          "text": [
            "\n",
            "Validation set: Average loss: 0.0185, Accuracy: 17059/33000 (51.69%)\n",
            "\n",
            "Epoch 35:\n"
          ],
          "name": "stdout"
        },
        {
          "output_type": "stream",
          "text": [
            "Loss=0.61 Batch_ID=601 Accuracy=88.00: 100%|██████████| 602/602 [02:27<00:00,  4.09it/s]\n",
            "  0%|          | 0/602 [00:00<?, ?it/s]"
          ],
          "name": "stderr"
        },
        {
          "output_type": "stream",
          "text": [
            "\n",
            "Validation set: Average loss: 0.0191, Accuracy: 17143/33000 (51.95%)\n",
            "\n",
            "Epoch 36:\n"
          ],
          "name": "stdout"
        },
        {
          "output_type": "stream",
          "text": [
            "Loss=0.63 Batch_ID=601 Accuracy=88.46: 100%|██████████| 602/602 [02:27<00:00,  4.08it/s]\n",
            "  0%|          | 0/602 [00:00<?, ?it/s]"
          ],
          "name": "stderr"
        },
        {
          "output_type": "stream",
          "text": [
            "\n",
            "Validation set: Average loss: 0.0189, Accuracy: 17195/33000 (52.11%)\n",
            "\n",
            "Epoch 37:\n"
          ],
          "name": "stdout"
        },
        {
          "output_type": "stream",
          "text": [
            "Loss=0.54 Batch_ID=601 Accuracy=89.07: 100%|██████████| 602/602 [02:27<00:00,  4.08it/s]\n",
            "  0%|          | 0/602 [00:00<?, ?it/s]"
          ],
          "name": "stderr"
        },
        {
          "output_type": "stream",
          "text": [
            "\n",
            "Validation set: Average loss: 0.0197, Accuracy: 16985/33000 (51.47%)\n",
            "\n",
            "Epoch 38:\n"
          ],
          "name": "stdout"
        },
        {
          "output_type": "stream",
          "text": [
            "Loss=0.65 Batch_ID=601 Accuracy=89.60: 100%|██████████| 602/602 [02:27<00:00,  4.09it/s]\n",
            "  0%|          | 0/602 [00:00<?, ?it/s]"
          ],
          "name": "stderr"
        },
        {
          "output_type": "stream",
          "text": [
            "\n",
            "Validation set: Average loss: 0.0195, Accuracy: 17107/33000 (51.84%)\n",
            "\n",
            "Epoch 39:\n"
          ],
          "name": "stdout"
        },
        {
          "output_type": "stream",
          "text": [
            "Loss=0.29 Batch_ID=601 Accuracy=89.92: 100%|██████████| 602/602 [02:27<00:00,  4.09it/s]\n",
            "  0%|          | 0/602 [00:00<?, ?it/s]"
          ],
          "name": "stderr"
        },
        {
          "output_type": "stream",
          "text": [
            "\n",
            "Validation set: Average loss: 0.0196, Accuracy: 17158/33000 (51.99%)\n",
            "\n",
            "Epoch 40:\n"
          ],
          "name": "stdout"
        },
        {
          "output_type": "stream",
          "text": [
            "Loss=0.36 Batch_ID=601 Accuracy=90.36: 100%|██████████| 602/602 [02:27<00:00,  4.09it/s]\n",
            "  0%|          | 0/602 [00:00<?, ?it/s]"
          ],
          "name": "stderr"
        },
        {
          "output_type": "stream",
          "text": [
            "\n",
            "Validation set: Average loss: 0.0194, Accuracy: 17293/33000 (52.40%)\n",
            "\n",
            "Epoch 41:\n"
          ],
          "name": "stdout"
        },
        {
          "output_type": "stream",
          "text": [
            "Loss=0.32 Batch_ID=601 Accuracy=90.87: 100%|██████████| 602/602 [02:26<00:00,  4.10it/s]\n",
            "  0%|          | 0/602 [00:00<?, ?it/s]"
          ],
          "name": "stderr"
        },
        {
          "output_type": "stream",
          "text": [
            "\n",
            "Validation set: Average loss: 0.0194, Accuracy: 17300/33000 (52.42%)\n",
            "\n",
            "Epoch 42:\n"
          ],
          "name": "stdout"
        },
        {
          "output_type": "stream",
          "text": [
            "Loss=0.43 Batch_ID=601 Accuracy=91.13: 100%|██████████| 602/602 [02:26<00:00,  4.10it/s]\n",
            "  0%|          | 0/602 [00:00<?, ?it/s]"
          ],
          "name": "stderr"
        },
        {
          "output_type": "stream",
          "text": [
            "\n",
            "Validation set: Average loss: 0.0200, Accuracy: 17125/33000 (51.89%)\n",
            "\n",
            "Epoch 43:\n"
          ],
          "name": "stdout"
        },
        {
          "output_type": "stream",
          "text": [
            "Loss=0.30 Batch_ID=601 Accuracy=91.71: 100%|██████████| 602/602 [02:26<00:00,  4.10it/s]\n",
            "  0%|          | 0/602 [00:00<?, ?it/s]"
          ],
          "name": "stderr"
        },
        {
          "output_type": "stream",
          "text": [
            "\n",
            "Validation set: Average loss: 0.0202, Accuracy: 17101/33000 (51.82%)\n",
            "\n",
            "Epoch 44:\n"
          ],
          "name": "stdout"
        },
        {
          "output_type": "stream",
          "text": [
            "Loss=0.44 Batch_ID=601 Accuracy=92.08: 100%|██████████| 602/602 [02:27<00:00,  4.09it/s]\n",
            "  0%|          | 0/602 [00:00<?, ?it/s]"
          ],
          "name": "stderr"
        },
        {
          "output_type": "stream",
          "text": [
            "\n",
            "Validation set: Average loss: 0.0197, Accuracy: 17489/33000 (53.00%)\n",
            "\n",
            "Epoch 45:\n"
          ],
          "name": "stdout"
        },
        {
          "output_type": "stream",
          "text": [
            "Loss=0.41 Batch_ID=601 Accuracy=91.93: 100%|██████████| 602/602 [02:27<00:00,  4.09it/s]\n",
            "  0%|          | 0/602 [00:00<?, ?it/s]"
          ],
          "name": "stderr"
        },
        {
          "output_type": "stream",
          "text": [
            "\n",
            "Validation set: Average loss: 0.0199, Accuracy: 17399/33000 (52.72%)\n",
            "\n",
            "Epoch 46:\n"
          ],
          "name": "stdout"
        },
        {
          "output_type": "stream",
          "text": [
            "Loss=0.26 Batch_ID=601 Accuracy=92.47: 100%|██████████| 602/602 [02:27<00:00,  4.09it/s]\n",
            "  0%|          | 0/602 [00:00<?, ?it/s]"
          ],
          "name": "stderr"
        },
        {
          "output_type": "stream",
          "text": [
            "\n",
            "Validation set: Average loss: 0.0203, Accuracy: 17391/33000 (52.70%)\n",
            "\n",
            "Epoch 47:\n"
          ],
          "name": "stdout"
        },
        {
          "output_type": "stream",
          "text": [
            "Loss=0.17 Batch_ID=601 Accuracy=92.41: 100%|██████████| 602/602 [02:27<00:00,  4.09it/s]\n",
            "  0%|          | 0/602 [00:00<?, ?it/s]"
          ],
          "name": "stderr"
        },
        {
          "output_type": "stream",
          "text": [
            "\n",
            "Validation set: Average loss: 0.0202, Accuracy: 17522/33000 (53.10%)\n",
            "\n",
            "Epoch 48:\n"
          ],
          "name": "stdout"
        },
        {
          "output_type": "stream",
          "text": [
            "Loss=0.29 Batch_ID=601 Accuracy=92.94: 100%|██████████| 602/602 [02:27<00:00,  4.09it/s]\n",
            "  0%|          | 0/602 [00:00<?, ?it/s]"
          ],
          "name": "stderr"
        },
        {
          "output_type": "stream",
          "text": [
            "\n",
            "Validation set: Average loss: 0.0199, Accuracy: 17611/33000 (53.37%)\n",
            "\n",
            "Epoch 49:\n"
          ],
          "name": "stdout"
        },
        {
          "output_type": "stream",
          "text": [
            "Loss=0.42 Batch_ID=601 Accuracy=93.22: 100%|██████████| 602/602 [02:27<00:00,  4.09it/s]\n",
            "  0%|          | 0/602 [00:00<?, ?it/s]"
          ],
          "name": "stderr"
        },
        {
          "output_type": "stream",
          "text": [
            "\n",
            "Validation set: Average loss: 0.0203, Accuracy: 17403/33000 (52.74%)\n",
            "\n",
            "Epoch 50:\n"
          ],
          "name": "stdout"
        },
        {
          "output_type": "stream",
          "text": [
            "Loss=0.20 Batch_ID=601 Accuracy=93.45: 100%|██████████| 602/602 [02:27<00:00,  4.09it/s]\n"
          ],
          "name": "stderr"
        },
        {
          "output_type": "stream",
          "text": [
            "\n",
            "Validation set: Average loss: 0.0202, Accuracy: 17491/33000 (53.00%)\n",
            "\n"
          ],
          "name": "stdout"
        }
      ]
    },
    {
      "cell_type": "code",
      "metadata": {
        "id": "NJ0mADv-oK-F",
        "outputId": "c9ff790e-67d4-45c3-d987-1f9c5a7a92c1",
        "colab": {
          "base_uri": "https://localhost:8080/",
          "height": 350
        }
      },
      "source": [
        "plot_metric(\n",
        "    {'Training': train_accuracies, 'Validation': val_accuracies}, 'Accuracy'\n",
        ")"
      ],
      "execution_count": 16,
      "outputs": [
        {
          "output_type": "display_data",
          "data": {
            "image/png": "[encoded data removed]",
            "text/plain": [
              "<Figure size 504x360 with 1 Axes>"
            ]
          },
          "metadata": {
            "tags": [],
            "needs_background": "light"
          }
        }
      ]
    },
    {
      "cell_type": "code",
      "metadata": {
        "id": "RH-vpEH3K-BR"
      },
      "source": [
        ""
      ],
      "execution_count": null,
      "outputs": []
    }
  ]
}