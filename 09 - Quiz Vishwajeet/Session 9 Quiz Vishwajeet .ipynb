{
  "nbformat": 4,
  "nbformat_minor": 0,
  "metadata": {
    "colab": {
      "name": "quiz session 9",
      "provenance": [],
      "collapsed_sections": []
    },
    "kernelspec": {
      "name": "python3",
      "display_name": "Python 3"
    },
    "accelerator": "GPU"
  },
  "cells": [
    {
      "cell_type": "code",
      "metadata": {
        "id": "V1D4kUwHmBeO"
      },
      "source": [
        "# !pip install albumentations==0.4.5"
      ],
      "execution_count": 1,
      "outputs": []
    },
    {
      "cell_type": "code",
      "metadata": {
        "id": "ygHnvCwShjlB",
        "outputId": "fd9a20ac-b008-4f0c-c5c0-34b762d1d868",
        "colab": {
          "base_uri": "https://localhost:8080/",
          "height": 34
        }
      },
      "source": [
        "\n",
        "from datetime import datetime\n",
        "print(\"Current Date/Time: \", datetime.now())\n"
      ],
      "execution_count": 2,
      "outputs": [
        {
          "output_type": "stream",
          "text": [
            "Current Date/Time:  2020-09-26 23:05:13.842341\n"
          ],
          "name": "stdout"
        }
      ]
    },
    {
      "cell_type": "code",
      "metadata": {
        "id": "Xlxf5j_YhpMI"
      },
      "source": [
        "%matplotlib inline\n",
        "import torch\n",
        "import torch.nn as nn\n",
        "import torch.nn.functional as F\n",
        "import torch.optim as optim\n",
        "from torch.optim.lr_scheduler import StepLR\n",
        "import numpy as np\n",
        "import albumentations as A\n",
        "from albumentations.pytorch import ToTensor\n",
        "from data.transformations import Transformations\n",
        "from data.downloader import Downloader\n",
        "from data.dataloader import Dataloader\n",
        "from data.utils import cal_mean, cal_std, image_size\n",
        "from tqdm import tqdm\n",
        "from model.regularizer import l1_regularization\n",
        "from model.train import train \n",
        "from model.test import val\n",
        "from model.network import *\n",
        "from model.QuizDNN import *\n",
        "import matplotlib.pyplot as plt\n",
        "from plotter import *\n",
        "import cv2\n",
        "from gradcam import *"
      ],
      "execution_count": 3,
      "outputs": []
    },
    {
      "cell_type": "code",
      "metadata": {
        "id": "YPZDVnuPjDFO",
        "outputId": "2490075f-5d2b-4a38-b3f9-102b99df4e64",
        "colab": {
          "base_uri": "https://localhost:8080/",
          "height": 34
        }
      },
      "source": [
        "downloader = Downloader('./data', 'CIFAR10')\n",
        "sample = downloader.download_sample(train = True)"
      ],
      "execution_count": 4,
      "outputs": [
        {
          "output_type": "stream",
          "text": [
            "Files already downloaded and verified\n"
          ],
          "name": "stdout"
        }
      ]
    },
    {
      "cell_type": "code",
      "metadata": {
        "id": "VzIWxliljJTK",
        "outputId": "8f3bc2dc-9fbb-42cf-e8cc-4185c948939a",
        "colab": {
          "base_uri": "https://localhost:8080/",
          "height": 34
        }
      },
      "source": [
        "args = {\n",
        "    'mean': (0.5, 0.5, 0.5),\n",
        "    'std': (0.5, 0.5, 0.5),\n",
        "    'train': False\n",
        "}\n",
        "args['train'] = True\n",
        "args['horizontal_flip_prob'] = 0.2\n",
        "args['vertical_flip_prob'] = 0.0\n",
        "args['gaussian_blur_prob'] = 0.0\n",
        "args['rotate_degree'] = 20\n",
        "args['cutout'] = 0.3\n",
        "args['cutout_height'] = 16\n",
        "args['cutout_width'] = 16\n",
        "args['mean'] = cal_mean(sample)  # calculate mean\n",
        "args['std'] = cal_std(sample)   # calculate standard deviation\n",
        "# print(args['mean'])\n",
        "classes = sample.classes\n",
        "print(classes)"
      ],
      "execution_count": 5,
      "outputs": [
        {
          "output_type": "stream",
          "text": [
            "['airplane', 'automobile', 'bird', 'cat', 'deer', 'dog', 'frog', 'horse', 'ship', 'truck']\n"
          ],
          "name": "stdout"
        }
      ]
    },
    {
      "cell_type": "code",
      "metadata": {
        "id": "En5T9Rw3jL6b",
        "outputId": "e86054d5-ae07-45fa-f5e6-cac017a2d717",
        "colab": {
          "base_uri": "https://localhost:8080/",
          "height": 52
        }
      },
      "source": [
        "transformations = Transformations(**args)\n",
        "trainset = downloader.download(transformations)\n",
        "args['train'] = False\n",
        "transformations = Transformations(**args)\n",
        "testset = downloader.download(transformations, train = False)"
      ],
      "execution_count": 6,
      "outputs": [
        {
          "output_type": "stream",
          "text": [
            "Files already downloaded and verified\n",
            "Files already downloaded and verified\n"
          ],
          "name": "stdout"
        }
      ]
    },
    {
      "cell_type": "code",
      "metadata": {
        "id": "TbhcMjfTjONO"
      },
      "source": [
        "batch_size = 64\n",
        "num_workers = 2\n",
        "trainloader = Dataloader.getloader(trainset, batch_size, num_workers)\n",
        "testloader = Dataloader.getloader(testset, batch_size, num_workers, train = False)"
      ],
      "execution_count": 7,
      "outputs": []
    },
    {
      "cell_type": "code",
      "metadata": {
        "id": "6wRohNIvjQgR",
        "outputId": "d725f121-8341-4ec8-9983-b3041afce661",
        "colab": {
          "base_uri": "https://localhost:8080/",
          "height": 34
        }
      },
      "source": [
        "cuda = torch.cuda.is_available()\n",
        "print('GPU Available?', cuda)\n",
        "device = torch.device(\"cuda\" if cuda else \"cpu\")\n",
        "torch.manual_seed(1)\n",
        "if cuda:\n",
        "    torch.cuda.manual_seed(1)"
      ],
      "execution_count": 8,
      "outputs": [
        {
          "output_type": "stream",
          "text": [
            "GPU Available? True\n"
          ],
          "name": "stdout"
        }
      ]
    },
    {
      "cell_type": "code",
      "metadata": {
        "id": "dTAVJI4kjUK8",
        "outputId": "605e3a1b-9e22-427d-c524-65e01ba4f502",
        "colab": {
          "base_uri": "https://localhost:8080/",
          "height": 799
        }
      },
      "source": [
        "from torchsummary import summary\n",
        "model = Net().to(device)  # Create model\n",
        "size = image_size(sample)\n",
        "print(summary(model, input_size = size))"
      ],
      "execution_count": 9,
      "outputs": [
        {
          "output_type": "stream",
          "text": [
            "----------------------------------------------------------------\n",
            "        Layer (type)               Output Shape         Param #\n",
            "================================================================\n",
            "            Conv2d-1           [-1, 32, 32, 32]             896\n",
            "              ReLU-2           [-1, 32, 32, 32]               0\n",
            "       BatchNorm2d-3           [-1, 32, 32, 32]              64\n",
            "            Conv2d-4           [-1, 32, 32, 32]           9,248\n",
            "              ReLU-5           [-1, 32, 32, 32]               0\n",
            "       BatchNorm2d-6           [-1, 32, 32, 32]              64\n",
            "            Conv2d-7           [-1, 32, 32, 32]           9,248\n",
            "              ReLU-8           [-1, 32, 32, 32]               0\n",
            "       BatchNorm2d-9           [-1, 32, 32, 32]              64\n",
            "        MaxPool2d-10           [-1, 32, 16, 16]               0\n",
            "           Conv2d-11           [-1, 32, 16, 16]           9,248\n",
            "             ReLU-12           [-1, 32, 16, 16]               0\n",
            "      BatchNorm2d-13           [-1, 32, 16, 16]              64\n",
            "           Conv2d-14           [-1, 32, 16, 16]           9,248\n",
            "             ReLU-15           [-1, 32, 16, 16]               0\n",
            "      BatchNorm2d-16           [-1, 32, 16, 16]              64\n",
            "           Conv2d-17           [-1, 32, 16, 16]           9,248\n",
            "             ReLU-18           [-1, 32, 16, 16]               0\n",
            "      BatchNorm2d-19           [-1, 32, 16, 16]              64\n",
            "        MaxPool2d-20             [-1, 32, 8, 8]               0\n",
            "           Conv2d-21             [-1, 32, 8, 8]           9,248\n",
            "             ReLU-22             [-1, 32, 8, 8]               0\n",
            "      BatchNorm2d-23             [-1, 32, 8, 8]              64\n",
            "           Conv2d-24             [-1, 32, 8, 8]           9,248\n",
            "             ReLU-25             [-1, 32, 8, 8]               0\n",
            "      BatchNorm2d-26             [-1, 32, 8, 8]              64\n",
            "           Conv2d-27             [-1, 32, 8, 8]           9,248\n",
            "             ReLU-28             [-1, 32, 8, 8]               0\n",
            "      BatchNorm2d-29             [-1, 32, 8, 8]              64\n",
            "AdaptiveAvgPool2d-30             [-1, 32, 1, 1]               0\n",
            "           Linear-31                   [-1, 10]             330\n",
            "================================================================\n",
            "Total params: 75,786\n",
            "Trainable params: 75,786\n",
            "Non-trainable params: 0\n",
            "----------------------------------------------------------------\n",
            "Input size (MB): 0.01\n",
            "Forward/backward pass size (MB): 3.03\n",
            "Params size (MB): 0.29\n",
            "Estimated Total Size (MB): 3.33\n",
            "----------------------------------------------------------------\n",
            "None\n"
          ],
          "name": "stdout"
        }
      ]
    },
    {
      "cell_type": "code",
      "metadata": {
        "id": "x1a3E_60mZPG",
        "outputId": "da54fc30-882d-4b9e-9b12-95026f304b0b",
        "colab": {
          "base_uri": "https://localhost:8080/",
          "height": 34
        }
      },
      "source": [
        "criterion = nn.CrossEntropyLoss()\n",
        "optimizer = optim.SGD(model.parameters(), lr=0.1, momentum=0.9, weight_decay=0.0)\n",
        "StepLR(optimizer, step_size=25, gamma=0.1)"
      ],
      "execution_count": 10,
      "outputs": [
        {
          "output_type": "execute_result",
          "data": {
            "text/plain": [
              "<torch.optim.lr_scheduler.StepLR at 0x7f9b86f32e10>"
            ]
          },
          "metadata": {
            "tags": []
          },
          "execution_count": 10
        }
      ]
    },
    {
      "cell_type": "code",
      "metadata": {
        "id": "RBOuqvQRm0-P",
        "outputId": "3ac39deb-7870-4746-9a3a-d93aece6df25",
        "colab": {
          "base_uri": "https://localhost:8080/",
          "height": 1000
        }
      },
      "source": [
        "totalepochs = 15\n",
        "losses, accuracies = [], []\n",
        "for epoch in range(1, totalepochs + 1):\n",
        "    print(f'Epoch {epoch}:')\n",
        "    train(model, trainloader, device, optimizer, criterion)\n",
        "    loss, accuracy = val(model, testloader, device, criterion)\n",
        "    losses.append(loss)\n",
        "    accuracies.append(accuracy)"
      ],
      "execution_count": 11,
      "outputs": [
        {
          "output_type": "stream",
          "text": [
            "\r  0%|          | 0/782 [00:00<?, ?it/s]"
          ],
          "name": "stderr"
        },
        {
          "output_type": "stream",
          "text": [
            "Epoch 1:\n"
          ],
          "name": "stdout"
        },
        {
          "output_type": "stream",
          "text": [
            "Loss=1.21 Batch_ID=781 Accuracy=47.65: 100%|██████████| 782/782 [00:17<00:00, 45.95it/s]\n",
            "  0%|          | 0/782 [00:00<?, ?it/s]"
          ],
          "name": "stderr"
        },
        {
          "output_type": "stream",
          "text": [
            "\n",
            "Validation set: Average loss: 0.0175, Accuracy: 5978/10000 (59.78%)\n",
            "\n",
            "Epoch 2:\n"
          ],
          "name": "stdout"
        },
        {
          "output_type": "stream",
          "text": [
            "Loss=0.80 Batch_ID=781 Accuracy=62.16: 100%|██████████| 782/782 [00:17<00:00, 45.54it/s]\n",
            "  0%|          | 0/782 [00:00<?, ?it/s]"
          ],
          "name": "stderr"
        },
        {
          "output_type": "stream",
          "text": [
            "\n",
            "Validation set: Average loss: 0.0146, Accuracy: 6670/10000 (66.70%)\n",
            "\n",
            "Epoch 3:\n"
          ],
          "name": "stdout"
        },
        {
          "output_type": "stream",
          "text": [
            "Loss=0.73 Batch_ID=781 Accuracy=67.94: 100%|██████████| 782/782 [00:16<00:00, 46.13it/s]\n",
            "  0%|          | 0/782 [00:00<?, ?it/s]"
          ],
          "name": "stderr"
        },
        {
          "output_type": "stream",
          "text": [
            "\n",
            "Validation set: Average loss: 0.0123, Accuracy: 7280/10000 (72.80%)\n",
            "\n",
            "Epoch 4:\n"
          ],
          "name": "stdout"
        },
        {
          "output_type": "stream",
          "text": [
            "Loss=1.14 Batch_ID=781 Accuracy=71.57: 100%|██████████| 782/782 [00:17<00:00, 45.72it/s]\n",
            "  0%|          | 0/782 [00:00<?, ?it/s]"
          ],
          "name": "stderr"
        },
        {
          "output_type": "stream",
          "text": [
            "\n",
            "Validation set: Average loss: 0.0117, Accuracy: 7377/10000 (73.77%)\n",
            "\n",
            "Epoch 5:\n"
          ],
          "name": "stdout"
        },
        {
          "output_type": "stream",
          "text": [
            "Loss=0.59 Batch_ID=781 Accuracy=73.99: 100%|██████████| 782/782 [00:17<00:00, 45.85it/s]\n",
            "  0%|          | 0/782 [00:00<?, ?it/s]"
          ],
          "name": "stderr"
        },
        {
          "output_type": "stream",
          "text": [
            "\n",
            "Validation set: Average loss: 0.0107, Accuracy: 7579/10000 (75.79%)\n",
            "\n",
            "Epoch 6:\n"
          ],
          "name": "stdout"
        },
        {
          "output_type": "stream",
          "text": [
            "Loss=0.63 Batch_ID=781 Accuracy=75.51: 100%|██████████| 782/782 [00:16<00:00, 46.45it/s]\n",
            "  0%|          | 0/782 [00:00<?, ?it/s]"
          ],
          "name": "stderr"
        },
        {
          "output_type": "stream",
          "text": [
            "\n",
            "Validation set: Average loss: 0.0101, Accuracy: 7748/10000 (77.48%)\n",
            "\n",
            "Epoch 7:\n"
          ],
          "name": "stdout"
        },
        {
          "output_type": "stream",
          "text": [
            "Loss=0.58 Batch_ID=781 Accuracy=76.56: 100%|██████████| 782/782 [00:16<00:00, 46.54it/s]\n",
            "  0%|          | 0/782 [00:00<?, ?it/s]"
          ],
          "name": "stderr"
        },
        {
          "output_type": "stream",
          "text": [
            "\n",
            "Validation set: Average loss: 0.0102, Accuracy: 7783/10000 (77.83%)\n",
            "\n",
            "Epoch 8:\n"
          ],
          "name": "stdout"
        },
        {
          "output_type": "stream",
          "text": [
            "Loss=0.89 Batch_ID=781 Accuracy=77.47: 100%|██████████| 782/782 [00:16<00:00, 46.94it/s]\n",
            "  0%|          | 0/782 [00:00<?, ?it/s]"
          ],
          "name": "stderr"
        },
        {
          "output_type": "stream",
          "text": [
            "\n",
            "Validation set: Average loss: 0.0098, Accuracy: 7859/10000 (78.59%)\n",
            "\n",
            "Epoch 9:\n"
          ],
          "name": "stdout"
        },
        {
          "output_type": "stream",
          "text": [
            "Loss=0.91 Batch_ID=781 Accuracy=78.20: 100%|██████████| 782/782 [00:16<00:00, 46.72it/s]\n",
            "  0%|          | 0/782 [00:00<?, ?it/s]"
          ],
          "name": "stderr"
        },
        {
          "output_type": "stream",
          "text": [
            "\n",
            "Validation set: Average loss: 0.0104, Accuracy: 7726/10000 (77.26%)\n",
            "\n",
            "Epoch 10:\n"
          ],
          "name": "stdout"
        },
        {
          "output_type": "stream",
          "text": [
            "Loss=1.27 Batch_ID=781 Accuracy=78.83: 100%|██████████| 782/782 [00:16<00:00, 46.66it/s]\n",
            "  0%|          | 0/782 [00:00<?, ?it/s]"
          ],
          "name": "stderr"
        },
        {
          "output_type": "stream",
          "text": [
            "\n",
            "Validation set: Average loss: 0.0088, Accuracy: 8078/10000 (80.78%)\n",
            "\n",
            "Epoch 11:\n"
          ],
          "name": "stdout"
        },
        {
          "output_type": "stream",
          "text": [
            "Loss=0.54 Batch_ID=781 Accuracy=79.37: 100%|██████████| 782/782 [00:16<00:00, 46.67it/s]\n",
            "  0%|          | 0/782 [00:00<?, ?it/s]"
          ],
          "name": "stderr"
        },
        {
          "output_type": "stream",
          "text": [
            "\n",
            "Validation set: Average loss: 0.0088, Accuracy: 8086/10000 (80.86%)\n",
            "\n",
            "Epoch 12:\n"
          ],
          "name": "stdout"
        },
        {
          "output_type": "stream",
          "text": [
            "Loss=0.34 Batch_ID=781 Accuracy=79.96: 100%|██████████| 782/782 [00:16<00:00, 46.55it/s]\n",
            "  0%|          | 0/782 [00:00<?, ?it/s]"
          ],
          "name": "stderr"
        },
        {
          "output_type": "stream",
          "text": [
            "\n",
            "Validation set: Average loss: 0.0084, Accuracy: 8168/10000 (81.68%)\n",
            "\n",
            "Epoch 13:\n"
          ],
          "name": "stdout"
        },
        {
          "output_type": "stream",
          "text": [
            "Loss=0.49 Batch_ID=781 Accuracy=80.34: 100%|██████████| 782/782 [00:16<00:00, 46.99it/s]\n",
            "  0%|          | 0/782 [00:00<?, ?it/s]"
          ],
          "name": "stderr"
        },
        {
          "output_type": "stream",
          "text": [
            "\n",
            "Validation set: Average loss: 0.0089, Accuracy: 8080/10000 (80.80%)\n",
            "\n",
            "Epoch 14:\n"
          ],
          "name": "stdout"
        },
        {
          "output_type": "stream",
          "text": [
            "Loss=0.59 Batch_ID=781 Accuracy=81.12: 100%|██████████| 782/782 [00:16<00:00, 46.86it/s]\n",
            "  0%|          | 0/782 [00:00<?, ?it/s]"
          ],
          "name": "stderr"
        },
        {
          "output_type": "stream",
          "text": [
            "\n",
            "Validation set: Average loss: 0.0087, Accuracy: 8090/10000 (80.90%)\n",
            "\n",
            "Epoch 15:\n"
          ],
          "name": "stdout"
        },
        {
          "output_type": "stream",
          "text": [
            "Loss=0.66 Batch_ID=781 Accuracy=81.10: 100%|██████████| 782/782 [00:16<00:00, 46.31it/s]\n"
          ],
          "name": "stderr"
        },
        {
          "output_type": "stream",
          "text": [
            "\n",
            "Validation set: Average loss: 0.0093, Accuracy: 8022/10000 (80.22%)\n",
            "\n"
          ],
          "name": "stdout"
        }
      ]
    },
    {
      "cell_type": "code",
      "metadata": {
        "id": "hbdWTpYrm3pD"
      },
      "source": [
        ""
      ],
      "execution_count": 11,
      "outputs": []
    }
  ]
}